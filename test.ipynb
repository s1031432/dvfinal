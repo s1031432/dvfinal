{
 "cells": [
  {
   "cell_type": "code",
   "execution_count": 42,
   "metadata": {},
   "outputs": [
    {
     "name": "stdout",
     "output_type": "stream",
     "text": [
      "time.struct_time(tm_year=2020, tm_mon=9, tm_mday=9, tm_hour=0, tm_min=0, tm_sec=0, tm_wday=2, tm_yday=253, tm_isdst=-1)\n",
      "09-Sep-20\n",
      "[*********************100%***********************]  1 of 1 completed\n",
      "0    2017-01-03\n",
      "1    2017-01-04\n",
      "2    2017-01-05\n",
      "3    2017-01-06\n",
      "4    2017-01-09\n",
      "        ...    \n",
      "76   2017-04-24\n",
      "77   2017-04-25\n",
      "78   2017-04-26\n",
      "79   2017-04-27\n",
      "80   2017-04-28\n",
      "Name: Date, Length: 81, dtype: datetime64[ns]\n",
      "         Date    Open    High     Low   Close     Volume\n",
      "0   03-Jan-17  225.04  225.83  223.88  225.24   91366500\n",
      "1   04-Jan-17  225.62  226.75  225.61  226.58   78744400\n",
      "2   05-Jan-17  226.27  226.58  225.48  226.40   78379000\n",
      "3   06-Jan-17  226.53  227.75  225.90  227.21   71559900\n",
      "4   09-Jan-17  226.91  227.07  226.42  226.46   46939700\n",
      "..        ...     ...     ...     ...     ...        ...\n",
      "76  24-Apr-17  237.18  237.41  234.56  237.17  119209900\n",
      "77  25-Apr-17  237.91  238.95  237.81  238.55   76698300\n",
      "78  26-Apr-17  238.51  239.53  238.35  238.40   84702500\n",
      "79  27-Apr-17  238.77  238.95  237.98  238.60   57410300\n",
      "80  28-Apr-17  238.90  238.93  237.93  238.08   63532800\n",
      "\n",
      "[81 rows x 6 columns]\n"
     ]
    }
   ],
   "source": [
    "from pandas_datareader import data as pdr\n",
    "import pandas as pd\n",
    "from flask import Flask\n",
    "from flask_cors import CORS\n",
    "import yfinance as yf\n",
    "from datetime import datetime\n",
    "import json, time\n",
    "app = Flask(__name__)\n",
    "CORS(app)\n",
    "yf.pdr_override() # <== that's all it takes :-)\n",
    "\n",
    "timeString = \"2020-09-09\" # 時間格式為字串\n",
    "struct_time = time.strptime(timeString, \"%Y-%m-%d\") # 轉成時間元組\n",
    "print(struct_time)\n",
    "# time_stamp = int(time.mktime(struct_time)) # 轉成時間戳\n",
    "timeString = time.strftime(\"%d-%b-%y\", struct_time) # 轉成字串\n",
    "print(timeString)\n",
    "\n",
    "data = pdr.get_data_yahoo(\"SPY\", start=\"2017-01-01\", end=\"2017-04-30\")\n",
    "data = data.drop(\"Adj Close\", axis=1)\n",
    "data = data.round(3)\n",
    "data.reset_index(inplace=True)\n",
    "data['Date'] = data['Date'].dt.strftime('%d-%b-%y')\n",
    "print(data)"
   ]
  },
  {
   "cell_type": "code",
   "execution_count": 22,
   "metadata": {},
   "outputs": [
    {
     "name": "stdout",
     "output_type": "stream",
     "text": [
      "         DOB\n",
      "0  26/1/2016\n",
      "1  26/1/2016\n",
      "         DOB\n",
      "0 2016-01-26\n",
      "1 2016-01-26\n",
      "         DOB        DOB1\n",
      "0 2016-01-26  01/26/2016\n",
      "1 2016-01-26  01/26/2016\n"
     ]
    }
   ],
   "source": [
    "df = pd.DataFrame({'DOB': {0: '26/1/2016', 1: '26/1/2016'}})\n",
    "print(df)\n",
    "\n",
    "df['DOB'] = pd.to_datetime(df.DOB)\n",
    "print(df)\n",
    "\n",
    "df['DOB1'] = df['DOB'].dt.strftime('%m/%d/%Y')\n",
    "print(df)"
   ]
  }
 ],
 "metadata": {
  "interpreter": {
   "hash": "a08530e95afd0010f28adb00d8bf163b306b693a363cddd1bbeaf65614e96f99"
  },
  "kernelspec": {
   "display_name": "Python 3.10.4 64-bit",
   "language": "python",
   "name": "python3"
  },
  "language_info": {
   "codemirror_mode": {
    "name": "ipython",
    "version": 3
   },
   "file_extension": ".py",
   "mimetype": "text/x-python",
   "name": "python",
   "nbconvert_exporter": "python",
   "pygments_lexer": "ipython3",
   "version": "3.10.4"
  },
  "orig_nbformat": 4
 },
 "nbformat": 4,
 "nbformat_minor": 2
}
